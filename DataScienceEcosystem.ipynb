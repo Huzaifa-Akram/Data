{
 "cells": [
  {
   "cell_type": "markdown",
   "id": "f48458fe",
   "metadata": {},
   "source": [
    "# Data Science Tools and Ecosystem"
   ]
  },
  {
   "cell_type": "markdown",
   "id": "27fe64fa",
   "metadata": {},
   "source": [
    "In this notebook, Data Science Tools and Ecosystem are summarized."
   ]
  },
  {
   "cell_type": "markdown",
   "id": "745de64f",
   "metadata": {},
   "source": [
    "<strong>Objectives</strong>\n",
    "<ul>\n",
    "    <li>List Popular languages for Data Science.</li>\n",
    "    <li>List Commonly used libraries by Data Scientist</li>\n",
    "    <li>Tools for Data Science</li>\n",
    "    <li>Some Arithmetic Expression in Python</li>\n",
    "</ul>"
   ]
  },
  {
   "cell_type": "markdown",
   "id": "eec47c2d",
   "metadata": {},
   "source": [
    "Some of the popular <strong>programming languages</strong> that data scientist use are:\n",
    "<ol>\n",
    "    <li>\n",
    "        Python.\n",
    "    </li>\n",
    "    <li>\n",
    "        R.\n",
    "    </li>\n",
    "    <li>\n",
    "        SQL.\n",
    "    </li>\n",
    "    <li>\n",
    "        Scala.\n",
    "    </li>\n",
    "</ol>"
   ]
  },
  {
   "cell_type": "markdown",
   "id": "bf7feaf6",
   "metadata": {},
   "source": [
    "Some commonly used libraries used by Data Scientist include:\n",
    "<ol>\n",
    "    <li>\n",
    "        Pandas.\n",
    "    </li>\n",
    "    <li>\n",
    "        NumPy.\n",
    "    </li>\n",
    "    <li>\n",
    "        Matplotlib.\n",
    "    </li>\n",
    "    <li>\n",
    "        Scikit-learn.\n",
    "    </li>\n",
    "    <li>\n",
    "        ggplot2.\n",
    "    </li>\n",
    "    <li>\n",
    "        PyTorch.\n",
    "    </li>\n",
    "    <li>\n",
    "        TensorFlow.\n",
    "    </li>\n",
    "</ol>    "
   ]
  },
  {
   "cell_type": "markdown",
   "id": "0dd4a2ae",
   "metadata": {},
   "source": [
    "<table align=left>\n",
    "    <tr>\n",
    "        <th>Data Science Tools</th>\n",
    "    </tr>\n",
    "    <tr>\n",
    "        <td>Waston Studio</td>\n",
    "    </tr>\n",
    "    <tr>\n",
    "        <td>Apache Spark</td>\n",
    "    </tr>\n",
    "    <tr>\n",
    "        <td>Git/Github</td>\n",
    "    </tr>\n",
    "    <tr>\n",
    "        <td>Waston Studio</td>\n",
    "    </tr>\n",
    "    <tr>\n",
    "        <td>Jupyter Notebook</td>\n",
    "    </tr>\n",
    "</table>       "
   ]
  },
  {
   "cell_type": "markdown",
   "id": "1d28f771",
   "metadata": {},
   "source": [
    "### Below are a few examples of evaluating arithmetic expressions in Python."
   ]
  },
  {
   "cell_type": "code",
   "execution_count": 4,
   "id": "be7f1b12",
   "metadata": {},
   "outputs": [
    {
     "data": {
      "text/plain": [
       "17"
      ]
     },
     "execution_count": 4,
     "metadata": {},
     "output_type": "execute_result"
    }
   ],
   "source": [
    "#This simple arithmetic expression to multiply and then add expression.\n",
    "(3*4)+5"
   ]
  },
  {
   "cell_type": "code",
   "execution_count": 7,
   "id": "b11b1ec4",
   "metadata": {},
   "outputs": [
    {
     "name": "stdout",
     "output_type": "stream",
     "text": [
      "3.3333333333333335\n"
     ]
    }
   ],
   "source": [
    "#This will convert 200 minutes into hours by diving by 60.\n",
    "mins = 200\n",
    "hours = mins / 60\n",
    "print(hours)"
   ]
  },
  {
   "cell_type": "markdown",
   "id": "96c07ec4",
   "metadata": {},
   "source": [
    "## Author\n",
    "Huzaifa Akram."
   ]
  }
 ],
 "metadata": {
  "kernelspec": {
   "display_name": "Python 3 (ipykernel)",
   "language": "python",
   "name": "python3"
  },
  "language_info": {
   "codemirror_mode": {
    "name": "ipython",
    "version": 3
   },
   "file_extension": ".py",
   "mimetype": "text/x-python",
   "name": "python",
   "nbconvert_exporter": "python",
   "pygments_lexer": "ipython3",
   "version": "3.11.4"
  }
 },
 "nbformat": 4,
 "nbformat_minor": 5
}
